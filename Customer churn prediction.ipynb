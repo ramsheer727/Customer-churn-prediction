{
 "cells": [
  {
   "cell_type": "markdown",
   "id": "9ca662ed",
   "metadata": {},
   "source": [
    "### Importing the libraries"
   ]
  },
  {
   "cell_type": "code",
   "execution_count": 1057,
   "id": "d34e8f48",
   "metadata": {},
   "outputs": [],
   "source": [
    "import pandas as pd\n",
    "import numpy as np\n",
    "import matplotlib.pyplot as plt\n",
    "%matplotlib inline\n",
    "import seaborn as sns\n",
    "\n",
    "from sklearn.preprocessing import LabelEncoder\n",
    "from sklearn.model_selection import train_test_split\n",
    "from sklearn.linear_model import LogisticRegression\n",
    "from xgboost import XGBClassifier\n",
    "                                                         \n",
    "from sklearn.metrics import accuracy_score,roc_auc_score,roc_curve\n",
    "from sklearn.metrics import confusion_matrix\n",
    "from sklearn.metrics import f1_score\n",
    "from sklearn.metrics import precision_score,recall_score\n",
    "\n",
    "from imblearn.over_sampling import SMOTE\n",
    "\n",
    "\n",
    "# Suppressing Warnings\n",
    "import warnings\n",
    "warnings.filterwarnings('ignore')"
   ]
  },
  {
   "cell_type": "markdown",
   "id": "e81cf370",
   "metadata": {},
   "source": [
    "### Data Reading"
   ]
  },
  {
   "cell_type": "code",
   "execution_count": 1058,
   "id": "4b6c2a0b",
   "metadata": {},
   "outputs": [],
   "source": [
    "path=\"/content/drive/MyDrive/YourCabs_training.csv\""
   ]
  },
  {
   "cell_type": "code",
   "execution_count": 1059,
   "id": "41f8ba38",
   "metadata": {},
   "outputs": [],
   "source": [
    "df=pd.read_csv('data_regression.csv')"
   ]
  },
  {
   "cell_type": "code",
   "execution_count": 1060,
   "id": "0c0ffe2e",
   "metadata": {},
   "outputs": [
    {
     "data": {
      "text/html": [
       "<div>\n",
       "<style scoped>\n",
       "    .dataframe tbody tr th:only-of-type {\n",
       "        vertical-align: middle;\n",
       "    }\n",
       "\n",
       "    .dataframe tbody tr th {\n",
       "        vertical-align: top;\n",
       "    }\n",
       "\n",
       "    .dataframe thead th {\n",
       "        text-align: right;\n",
       "    }\n",
       "</style>\n",
       "<table border=\"1\" class=\"dataframe\">\n",
       "  <thead>\n",
       "    <tr style=\"text-align: right;\">\n",
       "      <th></th>\n",
       "      <th>year</th>\n",
       "      <th>customer_id</th>\n",
       "      <th>phone_no</th>\n",
       "      <th>gender</th>\n",
       "      <th>age</th>\n",
       "      <th>no_of_days_subscribed</th>\n",
       "      <th>multi_screen</th>\n",
       "      <th>mail_subscribed</th>\n",
       "      <th>weekly_mins_watched</th>\n",
       "      <th>minimum_daily_mins</th>\n",
       "      <th>maximum_daily_mins</th>\n",
       "      <th>weekly_max_night_mins</th>\n",
       "      <th>videos_watched</th>\n",
       "      <th>maximum_days_inactive</th>\n",
       "      <th>customer_support_calls</th>\n",
       "      <th>churn</th>\n",
       "    </tr>\n",
       "  </thead>\n",
       "  <tbody>\n",
       "    <tr>\n",
       "      <th>0</th>\n",
       "      <td>2015</td>\n",
       "      <td>100198</td>\n",
       "      <td>409-8743</td>\n",
       "      <td>Female</td>\n",
       "      <td>36</td>\n",
       "      <td>62</td>\n",
       "      <td>no</td>\n",
       "      <td>no</td>\n",
       "      <td>148.350</td>\n",
       "      <td>12.200</td>\n",
       "      <td>16.810</td>\n",
       "      <td>82</td>\n",
       "      <td>1</td>\n",
       "      <td>4.000</td>\n",
       "      <td>1</td>\n",
       "      <td>0.000</td>\n",
       "    </tr>\n",
       "    <tr>\n",
       "      <th>1</th>\n",
       "      <td>2015</td>\n",
       "      <td>100643</td>\n",
       "      <td>340-5930</td>\n",
       "      <td>Female</td>\n",
       "      <td>39</td>\n",
       "      <td>149</td>\n",
       "      <td>no</td>\n",
       "      <td>no</td>\n",
       "      <td>294.450</td>\n",
       "      <td>7.700</td>\n",
       "      <td>33.370</td>\n",
       "      <td>87</td>\n",
       "      <td>3</td>\n",
       "      <td>3.000</td>\n",
       "      <td>2</td>\n",
       "      <td>0.000</td>\n",
       "    </tr>\n",
       "    <tr>\n",
       "      <th>2</th>\n",
       "      <td>2015</td>\n",
       "      <td>100756</td>\n",
       "      <td>372-3750</td>\n",
       "      <td>Female</td>\n",
       "      <td>65</td>\n",
       "      <td>126</td>\n",
       "      <td>no</td>\n",
       "      <td>no</td>\n",
       "      <td>87.300</td>\n",
       "      <td>11.900</td>\n",
       "      <td>9.890</td>\n",
       "      <td>91</td>\n",
       "      <td>1</td>\n",
       "      <td>4.000</td>\n",
       "      <td>5</td>\n",
       "      <td>1.000</td>\n",
       "    </tr>\n",
       "    <tr>\n",
       "      <th>3</th>\n",
       "      <td>2015</td>\n",
       "      <td>101595</td>\n",
       "      <td>331-4902</td>\n",
       "      <td>Female</td>\n",
       "      <td>24</td>\n",
       "      <td>131</td>\n",
       "      <td>no</td>\n",
       "      <td>yes</td>\n",
       "      <td>321.300</td>\n",
       "      <td>9.500</td>\n",
       "      <td>36.410</td>\n",
       "      <td>102</td>\n",
       "      <td>4</td>\n",
       "      <td>3.000</td>\n",
       "      <td>3</td>\n",
       "      <td>0.000</td>\n",
       "    </tr>\n",
       "    <tr>\n",
       "      <th>4</th>\n",
       "      <td>2015</td>\n",
       "      <td>101653</td>\n",
       "      <td>351-8398</td>\n",
       "      <td>Female</td>\n",
       "      <td>40</td>\n",
       "      <td>191</td>\n",
       "      <td>no</td>\n",
       "      <td>no</td>\n",
       "      <td>243.000</td>\n",
       "      <td>10.900</td>\n",
       "      <td>27.540</td>\n",
       "      <td>83</td>\n",
       "      <td>7</td>\n",
       "      <td>3.000</td>\n",
       "      <td>1</td>\n",
       "      <td>0.000</td>\n",
       "    </tr>\n",
       "  </tbody>\n",
       "</table>\n",
       "</div>"
      ],
      "text/plain": [
       "   year  customer_id  phone_no  gender  age  no_of_days_subscribed  \\\n",
       "0  2015       100198  409-8743  Female   36                     62   \n",
       "1  2015       100643  340-5930  Female   39                    149   \n",
       "2  2015       100756  372-3750  Female   65                    126   \n",
       "3  2015       101595  331-4902  Female   24                    131   \n",
       "4  2015       101653  351-8398  Female   40                    191   \n",
       "\n",
       "  multi_screen mail_subscribed  weekly_mins_watched  minimum_daily_mins  \\\n",
       "0           no              no              148.350              12.200   \n",
       "1           no              no              294.450               7.700   \n",
       "2           no              no               87.300              11.900   \n",
       "3           no             yes              321.300               9.500   \n",
       "4           no              no              243.000              10.900   \n",
       "\n",
       "   maximum_daily_mins  weekly_max_night_mins  videos_watched  \\\n",
       "0              16.810                     82               1   \n",
       "1              33.370                     87               3   \n",
       "2               9.890                     91               1   \n",
       "3              36.410                    102               4   \n",
       "4              27.540                     83               7   \n",
       "\n",
       "   maximum_days_inactive  customer_support_calls  churn  \n",
       "0                  4.000                       1  0.000  \n",
       "1                  3.000                       2  0.000  \n",
       "2                  4.000                       5  1.000  \n",
       "3                  3.000                       3  0.000  \n",
       "4                  3.000                       1  0.000  "
      ]
     },
     "execution_count": 1060,
     "metadata": {},
     "output_type": "execute_result"
    }
   ],
   "source": [
    "df.head()"
   ]
  },
  {
   "cell_type": "markdown",
   "id": "ba199161",
   "metadata": {},
   "source": [
    "### Exploratory Data Analysis and Data Cleaning"
   ]
  },
  {
   "cell_type": "code",
   "execution_count": 1061,
   "id": "e7d1c8ea",
   "metadata": {},
   "outputs": [
    {
     "data": {
      "text/plain": [
       "(2000, 16)"
      ]
     },
     "execution_count": 1061,
     "metadata": {},
     "output_type": "execute_result"
    }
   ],
   "source": [
    "df.shape"
   ]
  },
  {
   "cell_type": "code",
   "execution_count": 1062,
   "id": "f86f7982",
   "metadata": {},
   "outputs": [
    {
     "name": "stdout",
     "output_type": "stream",
     "text": [
      "<class 'pandas.core.frame.DataFrame'>\n",
      "RangeIndex: 2000 entries, 0 to 1999\n",
      "Data columns (total 16 columns):\n",
      " #   Column                  Non-Null Count  Dtype  \n",
      "---  ------                  --------------  -----  \n",
      " 0   year                    2000 non-null   int64  \n",
      " 1   customer_id             2000 non-null   int64  \n",
      " 2   phone_no                2000 non-null   object \n",
      " 3   gender                  1976 non-null   object \n",
      " 4   age                     2000 non-null   int64  \n",
      " 5   no_of_days_subscribed   2000 non-null   int64  \n",
      " 6   multi_screen            2000 non-null   object \n",
      " 7   mail_subscribed         2000 non-null   object \n",
      " 8   weekly_mins_watched     2000 non-null   float64\n",
      " 9   minimum_daily_mins      2000 non-null   float64\n",
      " 10  maximum_daily_mins      2000 non-null   float64\n",
      " 11  weekly_max_night_mins   2000 non-null   int64  \n",
      " 12  videos_watched          2000 non-null   int64  \n",
      " 13  maximum_days_inactive   1972 non-null   float64\n",
      " 14  customer_support_calls  2000 non-null   int64  \n",
      " 15  churn                   1965 non-null   float64\n",
      "dtypes: float64(5), int64(7), object(4)\n",
      "memory usage: 250.1+ KB\n"
     ]
    }
   ],
   "source": [
    "df.info()"
   ]
  },
  {
   "cell_type": "code",
   "execution_count": 1063,
   "id": "0183867a",
   "metadata": {},
   "outputs": [
    {
     "data": {
      "text/plain": [
       "year                       0\n",
       "customer_id                0\n",
       "phone_no                   0\n",
       "gender                    24\n",
       "age                        0\n",
       "no_of_days_subscribed      0\n",
       "multi_screen               0\n",
       "mail_subscribed            0\n",
       "weekly_mins_watched        0\n",
       "minimum_daily_mins         0\n",
       "maximum_daily_mins         0\n",
       "weekly_max_night_mins      0\n",
       "videos_watched             0\n",
       "maximum_days_inactive     28\n",
       "customer_support_calls     0\n",
       "churn                     35\n",
       "dtype: int64"
      ]
     },
     "execution_count": 1063,
     "metadata": {},
     "output_type": "execute_result"
    }
   ],
   "source": [
    "df.isnull().sum()"
   ]
  },
  {
   "cell_type": "code",
   "execution_count": 1064,
   "id": "962d66a5",
   "metadata": {},
   "outputs": [],
   "source": [
    "# Dropping the rows with null values for churn\n",
    "df = df.dropna(axis=0, subset=['churn'])"
   ]
  },
  {
   "cell_type": "code",
   "execution_count": 1065,
   "id": "1116ecb2",
   "metadata": {},
   "outputs": [
    {
     "data": {
      "text/plain": [
       "year                       0\n",
       "customer_id                0\n",
       "phone_no                   0\n",
       "gender                    24\n",
       "age                        0\n",
       "no_of_days_subscribed      0\n",
       "multi_screen               0\n",
       "mail_subscribed            0\n",
       "weekly_mins_watched        0\n",
       "minimum_daily_mins         0\n",
       "maximum_daily_mins         0\n",
       "weekly_max_night_mins      0\n",
       "videos_watched             0\n",
       "maximum_days_inactive     26\n",
       "customer_support_calls     0\n",
       "churn                      0\n",
       "dtype: int64"
      ]
     },
     "execution_count": 1065,
     "metadata": {},
     "output_type": "execute_result"
    }
   ],
   "source": [
    "df.isnull().sum()"
   ]
  },
  {
   "cell_type": "code",
   "execution_count": 1066,
   "id": "6a6770f3",
   "metadata": {},
   "outputs": [
    {
     "data": {
      "text/html": [
       "<div>\n",
       "<style scoped>\n",
       "    .dataframe tbody tr th:only-of-type {\n",
       "        vertical-align: middle;\n",
       "    }\n",
       "\n",
       "    .dataframe tbody tr th {\n",
       "        vertical-align: top;\n",
       "    }\n",
       "\n",
       "    .dataframe thead th {\n",
       "        text-align: right;\n",
       "    }\n",
       "</style>\n",
       "<table border=\"1\" class=\"dataframe\">\n",
       "  <thead>\n",
       "    <tr style=\"text-align: right;\">\n",
       "      <th></th>\n",
       "      <th>year</th>\n",
       "      <th>customer_id</th>\n",
       "      <th>age</th>\n",
       "      <th>no_of_days_subscribed</th>\n",
       "      <th>weekly_mins_watched</th>\n",
       "      <th>minimum_daily_mins</th>\n",
       "      <th>maximum_daily_mins</th>\n",
       "      <th>weekly_max_night_mins</th>\n",
       "      <th>videos_watched</th>\n",
       "      <th>maximum_days_inactive</th>\n",
       "      <th>customer_support_calls</th>\n",
       "      <th>churn</th>\n",
       "    </tr>\n",
       "  </thead>\n",
       "  <tbody>\n",
       "    <tr>\n",
       "      <th>count</th>\n",
       "      <td>1965.000</td>\n",
       "      <td>1965.000</td>\n",
       "      <td>1965.000</td>\n",
       "      <td>1965.000</td>\n",
       "      <td>1965.000</td>\n",
       "      <td>1965.000</td>\n",
       "      <td>1965.000</td>\n",
       "      <td>1965.000</td>\n",
       "      <td>1965.000</td>\n",
       "      <td>1939.000</td>\n",
       "      <td>1965.000</td>\n",
       "      <td>1965.000</td>\n",
       "    </tr>\n",
       "    <tr>\n",
       "      <th>mean</th>\n",
       "      <td>2015.000</td>\n",
       "      <td>558015.037</td>\n",
       "      <td>38.698</td>\n",
       "      <td>99.751</td>\n",
       "      <td>269.894</td>\n",
       "      <td>10.199</td>\n",
       "      <td>30.589</td>\n",
       "      <td>100.454</td>\n",
       "      <td>4.491</td>\n",
       "      <td>3.250</td>\n",
       "      <td>1.545</td>\n",
       "      <td>0.133</td>\n",
       "    </tr>\n",
       "    <tr>\n",
       "      <th>std</th>\n",
       "      <td>0.000</td>\n",
       "      <td>260528.010</td>\n",
       "      <td>10.196</td>\n",
       "      <td>39.888</td>\n",
       "      <td>80.578</td>\n",
       "      <td>2.772</td>\n",
       "      <td>9.132</td>\n",
       "      <td>19.545</td>\n",
       "      <td>2.489</td>\n",
       "      <td>0.805</td>\n",
       "      <td>1.311</td>\n",
       "      <td>0.340</td>\n",
       "    </tr>\n",
       "    <tr>\n",
       "      <th>min</th>\n",
       "      <td>2015.000</td>\n",
       "      <td>100198.000</td>\n",
       "      <td>18.000</td>\n",
       "      <td>1.000</td>\n",
       "      <td>0.000</td>\n",
       "      <td>0.000</td>\n",
       "      <td>0.000</td>\n",
       "      <td>42.000</td>\n",
       "      <td>0.000</td>\n",
       "      <td>0.000</td>\n",
       "      <td>0.000</td>\n",
       "      <td>0.000</td>\n",
       "    </tr>\n",
       "    <tr>\n",
       "      <th>25%</th>\n",
       "      <td>2015.000</td>\n",
       "      <td>331980.000</td>\n",
       "      <td>32.000</td>\n",
       "      <td>72.000</td>\n",
       "      <td>218.250</td>\n",
       "      <td>8.400</td>\n",
       "      <td>24.740</td>\n",
       "      <td>87.000</td>\n",
       "      <td>3.000</td>\n",
       "      <td>3.000</td>\n",
       "      <td>1.000</td>\n",
       "      <td>0.000</td>\n",
       "    </tr>\n",
       "    <tr>\n",
       "      <th>50%</th>\n",
       "      <td>2015.000</td>\n",
       "      <td>576100.000</td>\n",
       "      <td>37.000</td>\n",
       "      <td>99.000</td>\n",
       "      <td>269.550</td>\n",
       "      <td>10.200</td>\n",
       "      <td>30.550</td>\n",
       "      <td>101.000</td>\n",
       "      <td>4.000</td>\n",
       "      <td>3.000</td>\n",
       "      <td>1.000</td>\n",
       "      <td>0.000</td>\n",
       "    </tr>\n",
       "    <tr>\n",
       "      <th>75%</th>\n",
       "      <td>2015.000</td>\n",
       "      <td>776079.000</td>\n",
       "      <td>44.000</td>\n",
       "      <td>127.000</td>\n",
       "      <td>324.000</td>\n",
       "      <td>12.000</td>\n",
       "      <td>36.720</td>\n",
       "      <td>114.000</td>\n",
       "      <td>6.000</td>\n",
       "      <td>4.000</td>\n",
       "      <td>2.000</td>\n",
       "      <td>0.000</td>\n",
       "    </tr>\n",
       "    <tr>\n",
       "      <th>max</th>\n",
       "      <td>2015.000</td>\n",
       "      <td>999961.000</td>\n",
       "      <td>82.000</td>\n",
       "      <td>243.000</td>\n",
       "      <td>526.200</td>\n",
       "      <td>20.000</td>\n",
       "      <td>59.640</td>\n",
       "      <td>175.000</td>\n",
       "      <td>19.000</td>\n",
       "      <td>6.000</td>\n",
       "      <td>9.000</td>\n",
       "      <td>1.000</td>\n",
       "    </tr>\n",
       "  </tbody>\n",
       "</table>\n",
       "</div>"
      ],
      "text/plain": [
       "          year  customer_id      age  no_of_days_subscribed  \\\n",
       "count 1965.000     1965.000 1965.000               1965.000   \n",
       "mean  2015.000   558015.037   38.698                 99.751   \n",
       "std      0.000   260528.010   10.196                 39.888   \n",
       "min   2015.000   100198.000   18.000                  1.000   \n",
       "25%   2015.000   331980.000   32.000                 72.000   \n",
       "50%   2015.000   576100.000   37.000                 99.000   \n",
       "75%   2015.000   776079.000   44.000                127.000   \n",
       "max   2015.000   999961.000   82.000                243.000   \n",
       "\n",
       "       weekly_mins_watched  minimum_daily_mins  maximum_daily_mins  \\\n",
       "count             1965.000            1965.000            1965.000   \n",
       "mean               269.894              10.199              30.589   \n",
       "std                 80.578               2.772               9.132   \n",
       "min                  0.000               0.000               0.000   \n",
       "25%                218.250               8.400              24.740   \n",
       "50%                269.550              10.200              30.550   \n",
       "75%                324.000              12.000              36.720   \n",
       "max                526.200              20.000              59.640   \n",
       "\n",
       "       weekly_max_night_mins  videos_watched  maximum_days_inactive  \\\n",
       "count               1965.000        1965.000               1939.000   \n",
       "mean                 100.454           4.491                  3.250   \n",
       "std                   19.545           2.489                  0.805   \n",
       "min                   42.000           0.000                  0.000   \n",
       "25%                   87.000           3.000                  3.000   \n",
       "50%                  101.000           4.000                  3.000   \n",
       "75%                  114.000           6.000                  4.000   \n",
       "max                  175.000          19.000                  6.000   \n",
       "\n",
       "       customer_support_calls    churn  \n",
       "count                1965.000 1965.000  \n",
       "mean                    1.545    0.133  \n",
       "std                     1.311    0.340  \n",
       "min                     0.000    0.000  \n",
       "25%                     1.000    0.000  \n",
       "50%                     1.000    0.000  \n",
       "75%                     2.000    0.000  \n",
       "max                     9.000    1.000  "
      ]
     },
     "execution_count": 1066,
     "metadata": {},
     "output_type": "execute_result"
    }
   ],
   "source": [
    "df.describe()"
   ]
  },
  {
   "cell_type": "code",
   "execution_count": 1067,
   "id": "923b6c6d",
   "metadata": {},
   "outputs": [
    {
     "name": "stdout",
     "output_type": "stream",
     "text": [
      "column:year - Unique values:[2015]\n",
      " \n",
      "column:customer_id - Unique values:[100198 100643 100756 ... 998474 998934 999961]\n",
      " \n",
      "column:phone_no - Unique values:['409-8743' '340-5930' '372-3750' ... '353-2080' '359-7788' '414-1496']\n",
      " \n",
      "column:gender - Unique values:['Female' nan 'Male']\n",
      " \n",
      "column:age - Unique values:[36 39 65 24 40 31 54 61 34 30 23 21 44 45 59 57 32 50 28 37 63 33 35 52\n",
      " 48 55 41 43 38 26 29 27 56 49 47 42 67 46 64 66 22 51 25 62 53 19 76 60\n",
      " 75 58 20 74 77 82 80 71 73 18 70 72 69 68 79]\n",
      " \n",
      "column:no_of_days_subscribed - Unique values:[ 62 149 126 131 191  65  59  50 205  63 114 107  84 142 137 100  99 115\n",
      " 194 104 170  76  94  81 119 138 124  48 106 161  89 105  67 129  56  95\n",
      "  37  80 190 168 166  42  96  77  54  41  53  98  90 146  51  97  55  74\n",
      "  86  75  27 163  44  92  45 140 122 132 134 109  21 167  35 177 118  87\n",
      " 103 135 144 148  70  16  83  72  30  93  91 110 128  38  64 172  82  39\n",
      " 108  66 162  10 156 101  68 111 112 127  61 158 192 136 116  49  40 130\n",
      " 125   9  57  88 113  58  79 179  17 117 152 159 155  43 123   5 186 139\n",
      "  19 147  34  73 121  78 153 171  85  29 102 165  36 151 150  31 201 174\n",
      " 141 157 178  18 120  22 176 182 189 154   1  24   2   3 181 164 193 210\n",
      "  71  13 195 173  52 133  46 184  47 145 197  25 199  60  32  69  33  28\n",
      " 169  12 232  26 160  11 225 143 224  20 212 185 215  15  23   6 243 217\n",
      " 209   7 200 180 196 208]\n",
      " \n",
      "column:multi_screen - Unique values:['no' 'yes']\n",
      " \n",
      "column:mail_subscribed - Unique values:['no' 'yes']\n",
      " \n",
      "column:weekly_mins_watched - Unique values:[148.35 294.45  87.3  ... 176.7  128.85 178.05]\n",
      " \n",
      "column:minimum_daily_mins - Unique values:[12.2  7.7 11.9  9.5 10.9 12.7 10.2  5.6  7.8 12.3  8.4  7.3 11.1 12.1\n",
      "  7.2 11.4 13.7 18.2 10.7  9.1 13.4  9.2 14.7  8.7 15.  11.3  7.6 11.\n",
      "  5.4  5.2  4.9 14.3 10.1  6.7 12.9  8.9  8.8 10.6 11.5 12.   7.5 10.\n",
      " 13.1 10.4 14.1  7.4  8.3 12.5 14.6 13.3  9.9  9.6  9.4 13.6 11.6  8.\n",
      " 11.8 10.8  4.2  7.9 12.6 13.2  8.2  9.7  6.8  9.8 14.8  8.1 14.5 10.5\n",
      "  5.5 10.3  8.6  8.5  3.9 13.9  1.3  9.3  6.4 13.   6.6 11.2  0.  11.7\n",
      "  6.2 14.4  5.8  5.9 16.4  6.3  5.1 16.7  6.1 15.5 14.2 16.9 18.   5.3\n",
      " 15.4  4.1 12.8 12.4  7.   6.9  6.5  5.  16.5  6.   9.  15.1  5.7  4.4\n",
      " 15.6 15.3 14.  15.7  7.1 13.5 13.8 16.  14.9  3.8  4.8  2.2 17.6  4.7\n",
      " 15.9  3.5  4.6 16.3  3.7 15.8 15.2  4.5 18.9  2.  17.5 20.  17.9  4.\n",
      " 17.2 16.1 17.1 17.3 18.4  2.7  3.6 16.2 17. ]\n",
      " \n",
      "column:maximum_daily_mins - Unique values:[16.81 33.37  9.89 ... 20.03 14.6  20.18]\n",
      " \n",
      "column:weekly_max_night_mins - Unique values:[ 82  87  91 102  83 111 106  88  64  58 100  79 134  96 130 117 124  95\n",
      " 101 131 103  50 107 125  81 128  70 109 104  72 115  97  74 123  93  84\n",
      " 108  66  76 110  98  92 121  71  86  77 119 135  94  73  78 114  68 155\n",
      "  99  89  80 127 116 137  75 105  57 157 142 113  49 112  85 118  61 151\n",
      " 136 146  90  63  67  53 144  69  60 122 126  62 138 141 120 129 133 139\n",
      "  59 132  55 143  54 153 140 147  65 145  42  56 152 150 148 158 154  51\n",
      "  46 175  44]\n",
      " \n",
      "column:videos_watched - Unique values:[ 1  3  4  7  6  9  5  2  8 10 14  0 11 13 18 15 12 19 16]\n",
      " \n",
      "column:maximum_days_inactive - Unique values:[ 4.  3. nan  2.  5.  1.  0.  6.]\n",
      " \n",
      "column:customer_support_calls - Unique values:[1 2 5 3 4 0 7 8 6 9]\n",
      " \n",
      "column:churn - Unique values:[0. 1.]\n",
      " \n"
     ]
    }
   ],
   "source": [
    "for col in df.columns:\n",
    "    print('column:{} - Unique values:{}'.format(col,df[col].unique()))\n",
    "    print(\" \")"
   ]
  },
  {
   "cell_type": "code",
   "execution_count": 1068,
   "id": "98d5b1a1",
   "metadata": {},
   "outputs": [
    {
     "data": {
      "text/plain": [
       "Male      1032\n",
       "Female     909\n",
       "Name: gender, dtype: int64"
      ]
     },
     "execution_count": 1068,
     "metadata": {},
     "output_type": "execute_result"
    }
   ],
   "source": [
    "df['gender'].value_counts()"
   ]
  },
  {
   "cell_type": "code",
   "execution_count": 1069,
   "id": "b3b1eb07",
   "metadata": {},
   "outputs": [
    {
     "data": {
      "text/plain": [
       "0.000    1703\n",
       "1.000     262\n",
       "Name: churn, dtype: int64"
      ]
     },
     "execution_count": 1069,
     "metadata": {},
     "output_type": "execute_result"
    }
   ],
   "source": [
    "df['churn'].value_counts()"
   ]
  },
  {
   "cell_type": "code",
   "execution_count": 1070,
   "id": "3ec7ba5c",
   "metadata": {},
   "outputs": [
    {
     "name": "stdout",
     "output_type": "stream",
     "text": [
      "Proportion: 6.5 :1\n"
     ]
    }
   ],
   "source": [
    "print(\"Proportion:\", round(df['churn'].value_counts()[0]/df['churn'].value_counts()[1],2),':1')"
   ]
  },
  {
   "cell_type": "code",
   "execution_count": 1071,
   "id": "e30c9f13",
   "metadata": {},
   "outputs": [
    {
     "data": {
      "text/plain": [
       "1703"
      ]
     },
     "execution_count": 1071,
     "metadata": {},
     "output_type": "execute_result"
    }
   ],
   "source": [
    "df['churn'].value_counts()[0]"
   ]
  },
  {
   "cell_type": "code",
   "execution_count": 1072,
   "id": "ea890c06",
   "metadata": {},
   "outputs": [],
   "source": [
    "df_churned = df[df['churn']==1]\n",
    "df_notchurned = df[df['churn']==0]"
   ]
  },
  {
   "cell_type": "code",
   "execution_count": 1073,
   "id": "fcbff8c2",
   "metadata": {},
   "outputs": [
    {
     "data": {
      "text/plain": [
       "Male      134\n",
       "Female    126\n",
       "Name: gender, dtype: int64"
      ]
     },
     "execution_count": 1073,
     "metadata": {},
     "output_type": "execute_result"
    }
   ],
   "source": [
    "# Churned male and female users\n",
    "\n",
    "df_churned['gender'].value_counts()  "
   ]
  },
  {
   "cell_type": "code",
   "execution_count": 1074,
   "id": "2c93d6a1",
   "metadata": {},
   "outputs": [],
   "source": [
    "df=df.drop(columns=['year','customer_id','phone_no'],axis=1)"
   ]
  },
  {
   "cell_type": "markdown",
   "id": "e99d678a",
   "metadata": {},
   "source": [
    "Dropping the year and customer_id columns as these are not helpful in predicting whether the customer will churn or not."
   ]
  },
  {
   "cell_type": "code",
   "execution_count": 1075,
   "id": "ff82b587",
   "metadata": {},
   "outputs": [
    {
     "data": {
      "text/plain": [
       "Male      1032\n",
       "Female     909\n",
       "Name: gender, dtype: int64"
      ]
     },
     "execution_count": 1075,
     "metadata": {},
     "output_type": "execute_result"
    }
   ],
   "source": [
    "df['gender'].value_counts()"
   ]
  },
  {
   "cell_type": "code",
   "execution_count": 1076,
   "id": "cdb948c0",
   "metadata": {},
   "outputs": [],
   "source": [
    "df['gender']=df['gender'].fillna(df['gender'].mode()[0])"
   ]
  },
  {
   "cell_type": "markdown",
   "id": "1486095a",
   "metadata": {},
   "source": [
    "Filling the null values in gender column with mode"
   ]
  },
  {
   "cell_type": "code",
   "execution_count": 1077,
   "id": "dc5a8a97",
   "metadata": {},
   "outputs": [],
   "source": [
    "df['maximum_days_inactive']=df['maximum_days_inactive'].fillna(df['maximum_days_inactive'].mean())"
   ]
  },
  {
   "cell_type": "markdown",
   "id": "aec04223",
   "metadata": {},
   "source": [
    "Filling the null values in maximum_days_inactive column with mean"
   ]
  },
  {
   "cell_type": "code",
   "execution_count": 1078,
   "id": "74b3cf08",
   "metadata": {},
   "outputs": [],
   "source": [
    "df['maximum_days_inactive'] = df['maximum_days_inactive'].apply(np.int64)"
   ]
  },
  {
   "cell_type": "code",
   "execution_count": 1079,
   "id": "4cd5217f",
   "metadata": {},
   "outputs": [
    {
     "data": {
      "text/plain": [
       "0.000    1703\n",
       "1.000     262\n",
       "Name: churn, dtype: int64"
      ]
     },
     "execution_count": 1079,
     "metadata": {},
     "output_type": "execute_result"
    }
   ],
   "source": [
    "df['churn'].value_counts()"
   ]
  },
  {
   "cell_type": "markdown",
   "id": "95e6b94a",
   "metadata": {},
   "source": [
    "### Data visualization"
   ]
  },
  {
   "cell_type": "code",
   "execution_count": 1080,
   "id": "d338e9f5",
   "metadata": {},
   "outputs": [
    {
     "data": {
      "image/png": "[encoded data removed]",
      "text/plain": [
       "<Figure size 432x288 with 1 Axes>"
      ]
     },
     "metadata": {
      "needs_background": "light"
     },
     "output_type": "display_data"
    },
    {
     "data": {
      "image/png": "[encoded data removed]",
      "text/plain": [
       "<Figure size 432x288 with 1 Axes>"
      ]
     },
     "metadata": {
      "needs_background": "light"
     },
     "output_type": "display_data"
    },
    {
     "data": {
      "image/png": "[encoded data removed]",
      "text/plain": [
       "<Figure size 432x288 with 1 Axes>"
      ]
     },
     "metadata": {
      "needs_background": "light"
     },
     "output_type": "display_data"
    },
    {
     "data": {
      "image/png": "[encoded data removed]",
      "text/plain": [
       "<Figure size 432x288 with 1 Axes>"
      ]
     },
     "metadata": {
      "needs_background": "light"
     },
     "output_type": "display_data"
    }
   ],
   "source": [
    "plt.hist(df['age'])\n",
    "plt.title('Age')\n",
    "plt.show()\n",
    "\n",
    "\n",
    "for col in df.columns:\n",
    "    if df[col].dtype=='object':\n",
    "        df[col].value_counts().plot.bar()\n",
    "        plt.title(col)\n",
    "        plt.show()"
   ]
  },
  {
   "cell_type": "code",
   "execution_count": 1081,
   "id": "09337085",
   "metadata": {},
   "outputs": [],
   "source": [
    "# Dropping the target columns\n",
    "target=df[['churn']]"
   ]
  },
  {
   "cell_type": "code",
   "execution_count": 1082,
   "id": "ea57f30a",
   "metadata": {},
   "outputs": [],
   "source": [
    "df=df.drop(['churn'],axis=1)"
   ]
  },
  {
   "cell_type": "code",
   "execution_count": 1083,
   "id": "693c1795",
   "metadata": {},
   "outputs": [],
   "source": [
    "#Creating a label encoder object\n",
    "le = LabelEncoder()\n",
    "for col in df.columns:\n",
    "    if df[col].dtype == 'object':\n",
    "            le.fit(df[col])\n",
    "            df[col] = le.transform(df[col])"
   ]
  },
  {
   "cell_type": "code",
   "execution_count": 1084,
   "id": "a8dc4167",
   "metadata": {},
   "outputs": [],
   "source": [
    "# min-max normalization (numeric variables)\n",
    "min_max_columns = ['age','no_of_days_subscribed', 'weekly_mins_watched', 'minimum_daily_mins','maximum_daily_mins',\n",
    "                  'weekly_max_night_mins','videos_watched','maximum_days_inactive','customer_support_calls']\n",
    "\n",
    "# scale numerical variables using min max scaler\n",
    "for column in min_max_columns:\n",
    "        # minimum value of the column\n",
    "        min_column = df[column].min()\n",
    "        # maximum value of the column\n",
    "        max_column = df[column].max()\n",
    "        # min max scaler\n",
    "        df[column] = (df[column] - min_column) / (max_column - min_column)   \n"
   ]
  },
  {
   "cell_type": "markdown",
   "id": "c6a6e25d",
   "metadata": {},
   "source": [
    "#### Train-test split"
   ]
  },
  {
   "cell_type": "code",
   "execution_count": 1085,
   "id": "b82f28f2",
   "metadata": {},
   "outputs": [
    {
     "name": "stdout",
     "output_type": "stream",
     "text": [
      "Index(['gender', 'age', 'no_of_days_subscribed', 'multi_screen',\n",
      "       'mail_subscribed', 'weekly_mins_watched', 'minimum_daily_mins',\n",
      "       'maximum_daily_mins', 'weekly_max_night_mins', 'videos_watched',\n",
      "       'maximum_days_inactive', 'customer_support_calls'],\n",
      "      dtype='object')\n",
      "Index(['churn'], dtype='object')\n"
     ]
    }
   ],
   "source": [
    "# select independent variables\n",
    "X = df\n",
    "\n",
    "# select dependent variables\n",
    "y = target\n",
    "\n",
    "# prove that the variables were selected correctly\n",
    "print(X.columns)\n",
    "\n",
    "# prove that the variables were selected correctly\n",
    "print(y.columns)"
   ]
  },
  {
   "cell_type": "code",
   "execution_count": 1086,
   "id": "baef6b85",
   "metadata": {},
   "outputs": [],
   "source": [
    "# split the data in training and testing sets\n",
    "X_train, X_test, y_train, y_test = train_test_split(X, y, test_size=0.20,\n",
    "                                                    random_state=40)"
   ]
  },
  {
   "cell_type": "code",
   "execution_count": 1087,
   "id": "c763592c",
   "metadata": {},
   "outputs": [
    {
     "data": {
      "text/plain": [
       "(1572, 12)"
      ]
     },
     "execution_count": 1087,
     "metadata": {},
     "output_type": "execute_result"
    }
   ],
   "source": [
    "X_train.shape"
   ]
  },
  {
   "cell_type": "code",
   "execution_count": 1088,
   "id": "a858ff2c",
   "metadata": {},
   "outputs": [
    {
     "data": {
      "text/plain": [
       "(393, 12)"
      ]
     },
     "execution_count": 1088,
     "metadata": {},
     "output_type": "execute_result"
    }
   ],
   "source": [
    "X_test.shape"
   ]
  },
  {
   "cell_type": "markdown",
   "id": "45a11acb",
   "metadata": {},
   "source": [
    "### Model evaluation with imbalanced data"
   ]
  },
  {
   "cell_type": "code",
   "execution_count": 1089,
   "id": "f81d7cd3",
   "metadata": {},
   "outputs": [],
   "source": [
    "base_lr=LogisticRegression(random_state=4)\n",
    "base_lr_model=base_lr.fit(X_train,y_train)"
   ]
  },
  {
   "cell_type": "code",
   "execution_count": 1090,
   "id": "b117e649",
   "metadata": {},
   "outputs": [],
   "source": [
    "base_lr_pred=base_lr_model.predict(X_test)"
   ]
  },
  {
   "cell_type": "code",
   "execution_count": 1091,
   "id": "0dffe52c",
   "metadata": {},
   "outputs": [
    {
     "name": "stdout",
     "output_type": "stream",
     "text": [
      "Logistic Regression: Imbalanced Data\n",
      " - Accuracy :  0.858\n",
      " - Precision:  0.643\n",
      " - Recall   :  0.150\n",
      " - F1 score :  0.243\n",
      " - AUC score:  0.816\n",
      "Confusion Matrix\n",
      "[[328   5]\n",
      " [ 51   9]]\n"
     ]
    }
   ],
   "source": [
    "# Calculate Accuracy, Precision, Recall, and F1 score\n",
    "base_lr_accuracy = accuracy_score(y_test, base_lr_pred)\n",
    "base_lr_precision = precision_score(y_test, base_lr_pred)\n",
    "base_lr_recall = recall_score(y_test, base_lr_pred)\n",
    "base_lr_f1 = f1_score(y_test,base_lr_pred)\n",
    "\n",
    "\n",
    "\n",
    "# Calculate AUC score\n",
    "base_lr_probs = base_lr.predict_proba(X_test)\n",
    "base_lr_probs = base_lr_probs[:,1]\n",
    "base_lr_auc = roc_auc_score(y_test, base_lr_probs)\n",
    "\n",
    "\n",
    "# Display the metrics\n",
    "print(\"Logistic Regression: Imbalanced Data\")\n",
    "print(\" - Accuracy : \",'{:.3f}'.format(base_lr_accuracy))\n",
    "print(\" - Precision: \",'{:.3f}'.format(base_lr_precision))\n",
    "print(\" - Recall   : \",'{:.3f}'.format(base_lr_recall))\n",
    "print(\" - F1 score : \",'{:.3f}'.format(base_lr_f1))\n",
    "print(\" - AUC score: \",'{:.3f}'.format(base_lr_auc))\n",
    "\n",
    "\n",
    "# Display the confusion matrix\n",
    "print(\"Confusion Matrix\")\n",
    "print(confusion_matrix(y_test,base_lr_pred))"
   ]
  },
  {
   "cell_type": "code",
   "execution_count": 1092,
   "id": "64c61295",
   "metadata": {},
   "outputs": [
    {
     "name": "stdout",
     "output_type": "stream",
     "text": [
      "XGBoost Classifier: Imbalanced Data\n",
      " - Accuracy :  0.903\n",
      " - Precision:  0.739\n",
      " - Recall   :  0.567\n",
      " - F1 score :  0.642\n",
      " - AUC score:  0.866\n",
      "Confusion Matrix\n",
      "[[321  12]\n",
      " [ 26  34]]\n"
     ]
    }
   ],
   "source": [
    "# Initiate the model\n",
    "base_xgb = XGBClassifier()\n",
    "# Fit the model\n",
    "base_xgb_model = base_xgb.fit(X_train, y_train)\n",
    "# Make Predictions\n",
    "base_xgb_pred = base_xgb_model.predict(X_test)\n",
    "\n",
    "# Calculate Accuracy, Precision, Recall, and F1 score\n",
    "base_xgb_accuracy = metrics.accuracy_score(y_test, base_xgb_pred)\n",
    "base_xgb_precision = metrics.precision_score(y_test, base_xgb_pred)\n",
    "base_xgb_recall = metrics.recall_score(y_test, base_xgb_pred)\n",
    "base_xgb_f1 = f1_score(y_test,base_xgb_pred)\n",
    "\n",
    "# Calculate AUC score\n",
    "base_xgb_probs = base_xgb.predict_proba(X_test)\n",
    "base_xgb_probs = base_xgb_probs[:,1]\n",
    "base_xgb_auc = roc_auc_score(y_test, base_xgb_probs)\n",
    "\n",
    "# Display the metrics\n",
    "print(\"XGBoost Classifier: Imbalanced Data\")\n",
    "print(\" - Accuracy : \",'{:.3f}'.format(base_xgb_accuracy))\n",
    "print(\" - Precision: \",'{:.3f}'.format(base_xgb_precision))\n",
    "print(\" - Recall   : \",'{:.3f}'.format(base_xgb_recall))\n",
    "print(\" - F1 score : \",'{:.3f}'.format(base_xgb_f1))\n",
    "print(\" - AUC score: \",'{:.3f}'.format(base_xgb_auc))\n",
    "\n",
    "# Display the confusion matrix\n",
    "print(\"Confusion Matrix\")\n",
    "print(confusion_matrix(y_test,base_xgb_pred))"
   ]
  },
  {
   "cell_type": "markdown",
   "id": "5856d57f",
   "metadata": {},
   "source": [
    "### SMOTE"
   ]
  },
  {
   "cell_type": "code",
   "execution_count": 1093,
   "id": "6c022330",
   "metadata": {},
   "outputs": [],
   "source": [
    "# create the  object with the desired sampling strategy.\n",
    "smote = SMOTE(sampling_strategy='minority')\n",
    "\n",
    "# fit the object to our training data\n",
    "x_train_smote, y_train_smote = smote.fit_resample(X_train, y_train)"
   ]
  },
  {
   "cell_type": "markdown",
   "id": "5c5fd828",
   "metadata": {},
   "source": [
    "### Model evaluation with SMOTE"
   ]
  },
  {
   "cell_type": "code",
   "execution_count": 1094,
   "id": "1c1073f1",
   "metadata": {},
   "outputs": [],
   "source": [
    "smote_lr =LogisticRegression(random_state=4)\n",
    "smote_lr_model =smote_lr.fit(x_train_smote,y_train_smote)"
   ]
  },
  {
   "cell_type": "code",
   "execution_count": 1095,
   "id": "bc0de0f4",
   "metadata": {},
   "outputs": [],
   "source": [
    "smote_lr_pred=smote_lr_model.predict(X_test)"
   ]
  },
  {
   "cell_type": "code",
   "execution_count": 1096,
   "id": "7c310289",
   "metadata": {},
   "outputs": [
    {
     "name": "stdout",
     "output_type": "stream",
     "text": [
      "Logistic Regression: SMOTE\n",
      " - Accuracy :  0.738\n",
      " - Precision:  0.336\n",
      " - Recall   :  0.733\n",
      " - F1 score :  0.461\n",
      " - AUC score:  0.809\n",
      "Confusion Matrix\n",
      "[[246  87]\n",
      " [ 16  44]]\n"
     ]
    }
   ],
   "source": [
    "# Calculate Accuracy, Precision, Recall, and F1 score\n",
    "smote_lr_accuracy = accuracy_score(y_test, smote_lr_pred)\n",
    "smote_lr_precision = precision_score(y_test, smote_lr_pred)\n",
    "smote_lr_recall = recall_score(y_test, smote_lr_pred)\n",
    "smote_lr_f1 = f1_score(y_test,smote_lr_pred)\n",
    "\n",
    "\n",
    "# Calculate AUC score\n",
    "smote_lr_probs = smote_lr.predict_proba(X_test)\n",
    "smote_lr_probs = smote_lr_probs[:,1]\n",
    "smote_lr_auc = roc_auc_score(y_test, smote_lr_probs)\n",
    "\n",
    "\n",
    "# Display the metrics\n",
    "print(\"Logistic Regression: SMOTE\")\n",
    "print(\" - Accuracy : \",'{:.3f}'.format(smote_lr_accuracy))\n",
    "print(\" - Precision: \",'{:.3f}'.format(smote_lr_precision))\n",
    "print(\" - Recall   : \",'{:.3f}'.format(smote_lr_recall))\n",
    "print(\" - F1 score : \",'{:.3f}'.format(smote_lr_f1))\n",
    "print(\" - AUC score: \",'{:.3f}'.format(smote_lr_auc))\n",
    "\n",
    "\n",
    "# Display the confusion matrix\n",
    "print(\"Confusion Matrix\")\n",
    "print(confusion_matrix(y_test,smote_lr_pred))"
   ]
  },
  {
   "cell_type": "code",
   "execution_count": 1097,
   "id": "5d83d265",
   "metadata": {},
   "outputs": [
    {
     "name": "stdout",
     "output_type": "stream",
     "text": [
      "XGBoost Classifier: SMOTE\n",
      " - Accuracy :  0.911\n",
      " - Precision:  0.766\n",
      " - Recall   :  0.600\n",
      " - F1 score :  0.673\n",
      " - AUC score:  0.883\n",
      "Confusion Matrix\n",
      "[[322  11]\n",
      " [ 24  36]]\n"
     ]
    }
   ],
   "source": [
    "# Initiate the model\n",
    "smote_xgb = XGBClassifier()\n",
    "# Fit the model\n",
    "smote_xgb_model = smote_xgb.fit(x_train_smote, y_train_smote)\n",
    "# Make Predictions\n",
    "smote_xgb_pred = smote_xgb_model.predict(X_test)\n",
    "\n",
    "# Calculate Accuracy, Precision, Recall, and F1 score\n",
    "smote_xgb_accuracy = metrics.accuracy_score(y_test, smote_xgb_pred)\n",
    "smote_xgb_precision = metrics.precision_score(y_test, smote_xgb_pred)\n",
    "smote_xgb_recall = metrics.recall_score(y_test, smote_xgb_pred)\n",
    "smote_xgb_f1 = f1_score(y_test,smote_xgb_pred)\n",
    "\n",
    "# Calculate AUC score\n",
    "smote_xgb_probs = smote_xgb.predict_proba(X_test)\n",
    "smote_xgb_probs = smote_xgb_probs[:,1]\n",
    "smote_xgb_auc = roc_auc_score(y_test, smote_xgb_probs)\n",
    "\n",
    "# Display the metrics\n",
    "print(\"XGBoost Classifier: SMOTE\")\n",
    "print(\" - Accuracy : \",'{:.3f}'.format(smote_xgb_accuracy))\n",
    "print(\" - Precision: \",'{:.3f}'.format(smote_xgb_precision))\n",
    "print(\" - Recall   : \",'{:.3f}'.format(smote_xgb_recall))\n",
    "print(\" - F1 score : \",'{:.3f}'.format(smote_xgb_f1))\n",
    "print(\" - AUC score: \",'{:.3f}'.format(smote_xgb_auc))\n",
    "\n",
    "# Display the confusion matrix\n",
    "print(\"Confusion Matrix\")\n",
    "print(confusion_matrix(y_test,smote_xgb_pred))"
   ]
  },
  {
   "cell_type": "markdown",
   "id": "2ac42553",
   "metadata": {},
   "source": [
    "### Summary of Results"
   ]
  },
  {
   "cell_type": "code",
   "execution_count": 1098,
   "id": "6571a08d",
   "metadata": {},
   "outputs": [],
   "source": [
    "# Create Results Table: Accuracy \n",
    "pd.options.display.float_format = '{:.3f}'.format\n",
    "\n",
    "acc_list = [[base_lr_accuracy, base_xgb_accuracy],\n",
    "    [smote_lr_accuracy, smote_xgb_accuracy]]\n",
    "\n",
    "acc_df = pd.DataFrame(acc_list)\n",
    "acc_df.index = ['BASE','SMOTE']\n",
    "acc_df.columns = ['Logistic Regression','XGBoost']   \n",
    "\n",
    "# Create Results Table: Recall\n",
    "rec_list = [[base_lr_recall, base_xgb_recall],\n",
    "    [smote_lr_recall, smote_xgb_recall]]\n",
    "\n",
    "rec_df = pd.DataFrame(rec_list)\n",
    "rec_df.index = ['BASE','SMOTE']\n",
    "rec_df.columns = ['Logistic Regression','XGBoost']\n",
    "\n",
    "# Create Results Table: F1\n",
    "f1_list = [[base_lr_f1, base_xgb_f1],\n",
    "    [smote_lr_f1, smote_xgb_f1]]\n",
    "\n",
    "\n",
    "f1_df = pd.DataFrame(f1_list)\n",
    "f1_df.index = ['BASE','SMOTE']\n",
    "f1_df.columns = ['Logistic Regression','XGBoost']\n",
    "\n",
    "# Create Results Table: AUC\n",
    "auc_list = [[base_lr_auc, base_xgb_auc],\n",
    "    [smote_lr_auc, smote_xgb_auc]]\n",
    "\n",
    "auc_df = pd.DataFrame(auc_list)\n",
    "auc_df.index = ['BASE','SMOTE']\n",
    "auc_df.columns = ['Logistic Regression','XGBoost']"
   ]
  },
  {
   "cell_type": "code",
   "execution_count": 1099,
   "id": "1e23aa2b",
   "metadata": {},
   "outputs": [
    {
     "name": "stdout",
     "output_type": "stream",
     "text": [
      "Accuracy\n"
     ]
    },
    {
     "data": {
      "text/html": [
       "<div>\n",
       "<style scoped>\n",
       "    .dataframe tbody tr th:only-of-type {\n",
       "        vertical-align: middle;\n",
       "    }\n",
       "\n",
       "    .dataframe tbody tr th {\n",
       "        vertical-align: top;\n",
       "    }\n",
       "\n",
       "    .dataframe thead th {\n",
       "        text-align: right;\n",
       "    }\n",
       "</style>\n",
       "<table border=\"1\" class=\"dataframe\">\n",
       "  <thead>\n",
       "    <tr style=\"text-align: right;\">\n",
       "      <th></th>\n",
       "      <th>Logistic Regression</th>\n",
       "      <th>XGBoost</th>\n",
       "    </tr>\n",
       "  </thead>\n",
       "  <tbody>\n",
       "    <tr>\n",
       "      <th>BASE</th>\n",
       "      <td>0.858</td>\n",
       "      <td>0.903</td>\n",
       "    </tr>\n",
       "    <tr>\n",
       "      <th>SMOTE</th>\n",
       "      <td>0.738</td>\n",
       "      <td>0.911</td>\n",
       "    </tr>\n",
       "  </tbody>\n",
       "</table>\n",
       "</div>"
      ],
      "text/plain": [
       "       Logistic Regression  XGBoost\n",
       "BASE                 0.858    0.903\n",
       "SMOTE                0.738    0.911"
      ]
     },
     "execution_count": 1099,
     "metadata": {},
     "output_type": "execute_result"
    }
   ],
   "source": [
    "print(\"Accuracy\")\n",
    "acc_df"
   ]
  },
  {
   "cell_type": "code",
   "execution_count": 1100,
   "id": "4510a67e",
   "metadata": {},
   "outputs": [
    {
     "name": "stdout",
     "output_type": "stream",
     "text": [
      "Recall\n"
     ]
    },
    {
     "data": {
      "text/html": [
       "<div>\n",
       "<style scoped>\n",
       "    .dataframe tbody tr th:only-of-type {\n",
       "        vertical-align: middle;\n",
       "    }\n",
       "\n",
       "    .dataframe tbody tr th {\n",
       "        vertical-align: top;\n",
       "    }\n",
       "\n",
       "    .dataframe thead th {\n",
       "        text-align: right;\n",
       "    }\n",
       "</style>\n",
       "<table border=\"1\" class=\"dataframe\">\n",
       "  <thead>\n",
       "    <tr style=\"text-align: right;\">\n",
       "      <th></th>\n",
       "      <th>Logistic Regression</th>\n",
       "      <th>XGBoost</th>\n",
       "    </tr>\n",
       "  </thead>\n",
       "  <tbody>\n",
       "    <tr>\n",
       "      <th>BASE</th>\n",
       "      <td>0.150</td>\n",
       "      <td>0.567</td>\n",
       "    </tr>\n",
       "    <tr>\n",
       "      <th>SMOTE</th>\n",
       "      <td>0.733</td>\n",
       "      <td>0.600</td>\n",
       "    </tr>\n",
       "  </tbody>\n",
       "</table>\n",
       "</div>"
      ],
      "text/plain": [
       "       Logistic Regression  XGBoost\n",
       "BASE                 0.150    0.567\n",
       "SMOTE                0.733    0.600"
      ]
     },
     "execution_count": 1100,
     "metadata": {},
     "output_type": "execute_result"
    }
   ],
   "source": [
    "print(\"Recall\")\n",
    "rec_df"
   ]
  },
  {
   "cell_type": "code",
   "execution_count": 1101,
   "id": "691a95f6",
   "metadata": {},
   "outputs": [
    {
     "name": "stdout",
     "output_type": "stream",
     "text": [
      "F1 score\n"
     ]
    },
    {
     "data": {
      "text/html": [
       "<div>\n",
       "<style scoped>\n",
       "    .dataframe tbody tr th:only-of-type {\n",
       "        vertical-align: middle;\n",
       "    }\n",
       "\n",
       "    .dataframe tbody tr th {\n",
       "        vertical-align: top;\n",
       "    }\n",
       "\n",
       "    .dataframe thead th {\n",
       "        text-align: right;\n",
       "    }\n",
       "</style>\n",
       "<table border=\"1\" class=\"dataframe\">\n",
       "  <thead>\n",
       "    <tr style=\"text-align: right;\">\n",
       "      <th></th>\n",
       "      <th>Logistic Regression</th>\n",
       "      <th>XGBoost</th>\n",
       "    </tr>\n",
       "  </thead>\n",
       "  <tbody>\n",
       "    <tr>\n",
       "      <th>BASE</th>\n",
       "      <td>0.243</td>\n",
       "      <td>0.642</td>\n",
       "    </tr>\n",
       "    <tr>\n",
       "      <th>SMOTE</th>\n",
       "      <td>0.461</td>\n",
       "      <td>0.673</td>\n",
       "    </tr>\n",
       "  </tbody>\n",
       "</table>\n",
       "</div>"
      ],
      "text/plain": [
       "       Logistic Regression  XGBoost\n",
       "BASE                 0.243    0.642\n",
       "SMOTE                0.461    0.673"
      ]
     },
     "execution_count": 1101,
     "metadata": {},
     "output_type": "execute_result"
    }
   ],
   "source": [
    "print(\"F1 score\")\n",
    "f1_df"
   ]
  },
  {
   "cell_type": "code",
   "execution_count": 1102,
   "id": "df169ffe",
   "metadata": {},
   "outputs": [
    {
     "name": "stdout",
     "output_type": "stream",
     "text": [
      "AUC\n"
     ]
    },
    {
     "data": {
      "text/html": [
       "<div>\n",
       "<style scoped>\n",
       "    .dataframe tbody tr th:only-of-type {\n",
       "        vertical-align: middle;\n",
       "    }\n",
       "\n",
       "    .dataframe tbody tr th {\n",
       "        vertical-align: top;\n",
       "    }\n",
       "\n",
       "    .dataframe thead th {\n",
       "        text-align: right;\n",
       "    }\n",
       "</style>\n",
       "<table border=\"1\" class=\"dataframe\">\n",
       "  <thead>\n",
       "    <tr style=\"text-align: right;\">\n",
       "      <th></th>\n",
       "      <th>Logistic Regression</th>\n",
       "      <th>XGBoost</th>\n",
       "    </tr>\n",
       "  </thead>\n",
       "  <tbody>\n",
       "    <tr>\n",
       "      <th>BASE</th>\n",
       "      <td>0.816</td>\n",
       "      <td>0.866</td>\n",
       "    </tr>\n",
       "    <tr>\n",
       "      <th>SMOTE</th>\n",
       "      <td>0.809</td>\n",
       "      <td>0.883</td>\n",
       "    </tr>\n",
       "  </tbody>\n",
       "</table>\n",
       "</div>"
      ],
      "text/plain": [
       "       Logistic Regression  XGBoost\n",
       "BASE                 0.816    0.866\n",
       "SMOTE                0.809    0.883"
      ]
     },
     "execution_count": 1102,
     "metadata": {},
     "output_type": "execute_result"
    }
   ],
   "source": [
    "print(\"AUC\")\n",
    "auc_df"
   ]
  },
  {
   "cell_type": "markdown",
   "id": "971961be",
   "metadata": {},
   "source": [
    "### ROC Curve"
   ]
  },
  {
   "cell_type": "code",
   "execution_count": 1103,
   "id": "e4e435a5",
   "metadata": {},
   "outputs": [],
   "source": [
    "ns_probs = [0 for _ in range(len(y_test))]\n",
    "\n",
    "prob_lm = base_lr_model.predict_proba(X_test)\n",
    "prob_lm = prob_lm[:,1]\n",
    "\n",
    "\n",
    "prob_xgb = base_xgb_model.predict_proba(X_test)\n",
    "prob_xgb = prob_xgb[:,1]"
   ]
  },
  {
   "cell_type": "code",
   "execution_count": 1104,
   "id": "97027fd2",
   "metadata": {},
   "outputs": [
    {
     "data": {
      "image/png": "[encoded data removed]",
      "text/plain": [
       "<Figure size 576x432 with 1 Axes>"
      ]
     },
     "metadata": {
      "needs_background": "light"
     },
     "output_type": "display_data"
    }
   ],
   "source": [
    "ns_fpr, ns_tpr, _ = roc_curve(y_test, ns_probs)\n",
    "lr_fpr, lr_tpr, _ = roc_curve(y_test, prob_lm)\n",
    "xgb_fpr, xgb_tpr, _ = roc_curve(y_test, prob_xgb)\n",
    "\n",
    "plt.figure(figsize=(8, 6))\n",
    "plt.plot(ns_fpr, ns_tpr, linestyle='--', label='Based on Majority')\n",
    "plt.plot(lr_fpr, lr_tpr, marker='.', label='Logistic')\n",
    "plt.plot(xgb_fpr, xgb_tpr, marker='.', label='XGBoost')\n",
    "\n",
    "plt.xlabel('False Positive Rate')\n",
    "plt.ylabel('True Positive Rate')\n",
    "\n",
    "plt.legend()\n",
    "plt.show()"
   ]
  },
  {
   "cell_type": "code",
   "execution_count": null,
   "id": "5f9bd50a",
   "metadata": {},
   "outputs": [],
   "source": []
  }
 ],
 "metadata": {
  "kernelspec": {
   "display_name": "Python 3 (ipykernel)",
   "language": "python",
   "name": "python3"
  },
  "language_info": {
   "codemirror_mode": {
    "name": "ipython",
    "version": 3
   },
   "file_extension": ".py",
   "mimetype": "text/x-python",
   "name": "python",
   "nbconvert_exporter": "python",
   "pygments_lexer": "ipython3",
   "version": "3.9.12"
  }
 },
 "nbformat": 4,
 "nbformat_minor": 5
}
